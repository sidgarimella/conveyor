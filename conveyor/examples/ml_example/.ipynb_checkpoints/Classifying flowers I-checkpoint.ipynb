{
 "cells": [
  {
   "cell_type": "markdown",
   "metadata": {},
   "source": [
    "### Iris dataset classification\n",
    "\n",
    "This is one of a few notebooks designed to showcase how Conveyor can make your work in Jupyter more organized. The objective of this example is to seperate the Iris dataset classification task (covered [here](https://scikit-learn.org/stable/tutorial/statistical_inference/supervised_learning.html)) into smaller subtasks, from exploratory data analysis to evaluating different classification strategies."
   ]
  },
  {
   "cell_type": "code",
   "execution_count": 1,
   "metadata": {},
   "outputs": [],
   "source": [
    "import conveyor"
   ]
  },
  {
   "cell_type": "markdown",
   "metadata": {},
   "source": [
    "Last notebook, we decided to try and use the areas of the flowers' petals and sepals to classify the flower types. Let's start by grabbing those values from our last notebook using Conveyor's nbglobals module."
   ]
  },
  {
   "cell_type": "code",
   "execution_count": 2,
   "metadata": {},
   "outputs": [],
   "source": [
    "conveyor.run_notebook(\"Exploring Iris.ipynb\", import_globals=True)\n",
    "from conveyor.nbglobals import flower_areas, iris_y"
   ]
  },
  {
   "cell_type": "code",
   "execution_count": 3,
   "metadata": {},
   "outputs": [
    {
     "data": {
      "text/plain": [
       "[[17.849999999999998, 0.27999999999999997],\n",
       " [14.700000000000001, 0.27999999999999997],\n",
       " [15.040000000000001, 0.26],\n",
       " [14.26, 0.30000000000000004],\n",
       " [18.0, 0.27999999999999997],\n",
       " [21.060000000000002, 0.68],\n",
       " [15.639999999999999, 0.42],\n",
       " [17.0, 0.30000000000000004],\n",
       " [12.76, 0.27999999999999997],\n",
       " [15.190000000000001, 0.15000000000000002],\n",
       " [19.980000000000004, 0.30000000000000004],\n",
       " [16.32, 0.32000000000000006],\n",
       " [14.399999999999999, 0.13999999999999999],\n",
       " [12.899999999999999, 0.11000000000000001],\n",
       " [23.2, 0.24],\n",
       " [25.080000000000002, 0.6000000000000001],\n",
       " [21.060000000000002, 0.52],\n",
       " [17.849999999999998, 0.42],\n",
       " [21.66, 0.51],\n",
       " [19.38, 0.44999999999999996],\n",
       " [18.36, 0.34],\n",
       " [18.87, 0.6000000000000001],\n",
       " [16.56, 0.2],\n",
       " [16.83, 0.85],\n",
       " [16.32, 0.38],\n",
       " [15.0, 0.32000000000000006],\n",
       " [17.0, 0.6400000000000001],\n",
       " [18.2, 0.30000000000000004],\n",
       " [17.68, 0.27999999999999997],\n",
       " [15.040000000000001, 0.32000000000000006],\n",
       " [14.879999999999999, 0.32000000000000006],\n",
       " [18.36, 0.6000000000000001],\n",
       " [21.32, 0.15000000000000002],\n",
       " [23.1, 0.27999999999999997],\n",
       " [15.190000000000001, 0.30000000000000004],\n",
       " [16.0, 0.24],\n",
       " [19.25, 0.26],\n",
       " [17.64, 0.13999999999999999],\n",
       " [13.200000000000001, 0.26],\n",
       " [17.34, 0.30000000000000004],\n",
       " [17.5, 0.39],\n",
       " [10.35, 0.39],\n",
       " [14.080000000000002, 0.26],\n",
       " [17.5, 0.96],\n",
       " [19.38, 0.76],\n",
       " [14.399999999999999, 0.42],\n",
       " [19.38, 0.32000000000000006],\n",
       " [14.719999999999999, 0.27999999999999997],\n",
       " [19.61, 0.30000000000000004],\n",
       " [16.5, 0.27999999999999997],\n",
       " [22.400000000000002, 6.58],\n",
       " [20.480000000000004, 6.75],\n",
       " [21.39, 7.3500000000000005],\n",
       " [12.649999999999999, 5.2],\n",
       " [18.2, 6.8999999999999995],\n",
       " [15.959999999999999, 5.8500000000000005],\n",
       " [20.79, 7.5200000000000005],\n",
       " [11.76, 3.3],\n",
       " [19.139999999999997, 5.9799999999999995],\n",
       " [14.040000000000001, 5.46],\n",
       " [10.0, 3.5],\n",
       " [17.700000000000003, 6.300000000000001],\n",
       " [13.200000000000001, 4.0],\n",
       " [17.689999999999998, 6.58],\n",
       " [16.24, 4.680000000000001],\n",
       " [20.77, 6.16],\n",
       " [16.799999999999997, 6.75],\n",
       " [15.66, 4.1],\n",
       " [13.640000000000002, 6.75],\n",
       " [14.0, 4.29],\n",
       " [18.880000000000003, 8.64],\n",
       " [17.08, 5.2],\n",
       " [15.75, 7.3500000000000005],\n",
       " [17.08, 5.64],\n",
       " [18.56, 5.59],\n",
       " [19.799999999999997, 6.16],\n",
       " [19.04, 6.72],\n",
       " [20.1, 8.5],\n",
       " [17.4, 6.75],\n",
       " [14.82, 3.5],\n",
       " [13.2, 4.18],\n",
       " [13.2, 3.7],\n",
       " [15.66, 4.68],\n",
       " [16.200000000000003, 8.16],\n",
       " [16.200000000000003, 6.75],\n",
       " [20.4, 7.2],\n",
       " [20.77, 7.050000000000001],\n",
       " [14.489999999999998, 5.720000000000001],\n",
       " [16.799999999999997, 5.33],\n",
       " [13.75, 5.2],\n",
       " [14.3, 5.28],\n",
       " [18.299999999999997, 6.4399999999999995],\n",
       " [15.08, 4.8],\n",
       " [11.5, 3.3],\n",
       " [15.12, 5.460000000000001],\n",
       " [17.1, 5.04],\n",
       " [16.53, 5.460000000000001],\n",
       " [17.98, 5.59],\n",
       " [12.75, 3.3000000000000003],\n",
       " [15.959999999999999, 5.33],\n",
       " [20.79, 15.0],\n",
       " [15.66, 9.69],\n",
       " [21.299999999999997, 12.39],\n",
       " [18.27, 10.08],\n",
       " [19.5, 12.76],\n",
       " [22.799999999999997, 13.86],\n",
       " [12.25, 7.6499999999999995],\n",
       " [21.169999999999998, 11.34],\n",
       " [16.75, 10.44],\n",
       " [25.92, 15.25],\n",
       " [20.8, 10.2],\n",
       " [17.28, 10.069999999999999],\n",
       " [20.4, 11.55],\n",
       " [14.25, 10.0],\n",
       " [16.24, 12.239999999999998],\n",
       " [20.480000000000004, 12.19],\n",
       " [19.5, 9.9],\n",
       " [29.259999999999998, 14.740000000000002],\n",
       " [20.02, 15.87],\n",
       " [13.200000000000001, 7.5],\n",
       " [22.080000000000002, 13.11],\n",
       " [15.679999999999998, 9.8],\n",
       " [21.56, 13.4],\n",
       " [17.01, 8.82],\n",
       " [22.11, 11.97],\n",
       " [23.040000000000003, 10.8],\n",
       " [17.36, 8.64],\n",
       " [18.299999999999997, 8.82],\n",
       " [17.919999999999998, 11.76],\n",
       " [21.6, 9.28],\n",
       " [20.72, 11.589999999999998],\n",
       " [30.02, 12.8],\n",
       " [17.919999999999998, 12.32],\n",
       " [17.639999999999997, 7.6499999999999995],\n",
       " [15.86, 7.839999999999999],\n",
       " [23.1, 14.029999999999998],\n",
       " [21.419999999999998, 13.44],\n",
       " [19.840000000000003, 9.9],\n",
       " [18.0, 8.64],\n",
       " [21.39, 11.340000000000002],\n",
       " [20.77, 13.44],\n",
       " [21.39, 11.729999999999999],\n",
       " [15.66, 9.69],\n",
       " [21.76, 13.57],\n",
       " [22.11, 14.25],\n",
       " [20.1, 11.959999999999999],\n",
       " [15.75, 9.5],\n",
       " [19.5, 10.4],\n",
       " [21.08, 12.42],\n",
       " [17.700000000000003, 9.18]]"
      ]
     },
     "execution_count": 3,
     "metadata": {},
     "output_type": "execute_result"
    }
   ],
   "source": [
    "# We organized this list such that each entry is of the form\n",
    "# [sepal area, petal area]\n",
    "flower_areas"
   ]
  },
  {
   "cell_type": "markdown",
   "metadata": {},
   "source": [
    "For this example notebook, you'll need the scikit-learn library. You can install it using `pip install -U scikit-learn`. It contains a variety of tools that will allows us to test different classification methods easily. First, let's see how well linear regression works to predict flower class using area."
   ]
  },
  {
   "cell_type": "code",
   "execution_count": 4,
   "metadata": {},
   "outputs": [],
   "source": [
    "from sklearn.model_selection import train_test_split\n",
    "from sklearn.linear_model import LinearRegression\n",
    "\n",
    "X_train, X_test, y_train, y_test = train_test_split(\n",
    "    flower_areas, iris_y, test_size=0.33, random_state=42)"
   ]
  },
  {
   "cell_type": "markdown",
   "metadata": {},
   "source": [
    "Let's try and make a plot to see how well linear regression fits our area data..."
   ]
  },
  {
   "cell_type": "code",
   "execution_count": 5,
   "metadata": {},
   "outputs": [
    {
     "data": {
      "text/plain": [
       "Text(0.5, 1.0, 'Regression results vs. Actual class')"
      ]
     },
     "execution_count": 5,
     "metadata": {},
     "output_type": "execute_result"
    },
    {
     "data": {
      "image/png": "[encoded data removed]",
      "text/plain": [
       "<Figure size 432x288 with 1 Axes>"
      ]
     },
     "metadata": {
      "needs_background": "light"
     },
     "output_type": "display_data"
    }
   ],
   "source": [
    "import matplotlib.pyplot as plt \n",
    "plt.figure()\n",
    "\n",
    "reg = LinearRegression().fit(X_train, y_train)\n",
    "\n",
    "plt.scatter(y_test, reg.predict(X_test))\n",
    "\n",
    "plt.plot([0.0,1.0,2.0],[1.5, 1.5, 1.5])\n",
    "plt.plot([0.0,1.0,2.0],[0.5, 0.5, 0.5])\n",
    "plt.xlabel(\"Actual class\")\n",
    "plt.ylabel(\"Predicted class\")\n",
    "plt.title(\"Regression results vs. Actual class\")"
   ]
  },
  {
   "cell_type": "markdown",
   "metadata": {},
   "source": [
    "That looks pretty good! We can completely separate classes 0 and 1 in the test data we have available. There is some misclassification between classes 1 and 2, however."
   ]
  },
  {
   "cell_type": "code",
   "execution_count": 6,
   "metadata": {},
   "outputs": [],
   "source": [
    "reg = LinearRegression().fit(X_train, y_train)\n",
    "predictions = []\n",
    "\n",
    "for prediction in reg.predict(X_test):\n",
    "    res = int(round(prediction))\n",
    "    if res > 2:\n",
    "        res = 2\n",
    "    if res < 0:\n",
    "        res = 0\n",
    "    predictions.append(res)"
   ]
  },
  {
   "cell_type": "markdown",
   "metadata": {},
   "source": [
    "Let's see how well we did..."
   ]
  },
  {
   "cell_type": "code",
   "execution_count": 7,
   "metadata": {},
   "outputs": [
    {
     "data": {
      "text/plain": [
       "0.98"
      ]
     },
     "execution_count": 7,
     "metadata": {},
     "output_type": "execute_result"
    }
   ],
   "source": [
    "n_correct = 0\n",
    "n_total = len(predictions)\n",
    "\n",
    "for idx in range(len(y_test)):\n",
    "    if y_test[idx] == predictions[idx]:\n",
    "        n_correct += 1\n",
    "        \n",
    "n_correct/float(n_total)"
   ]
  },
  {
   "cell_type": "markdown",
   "metadata": {},
   "source": []
  }
 ],
 "metadata": {
  "kernelspec": {
   "display_name": "Python 3",
   "language": "python",
   "name": "python3"
  },
  "language_info": {
   "codemirror_mode": {
    "name": "ipython",
    "version": 3
   },
   "file_extension": ".py",
   "mimetype": "text/x-python",
   "name": "python",
   "nbconvert_exporter": "python",
   "pygments_lexer": "ipython3",
   "version": "3.7.5"
  }
 },
 "nbformat": 4,
 "nbformat_minor": 2
}
